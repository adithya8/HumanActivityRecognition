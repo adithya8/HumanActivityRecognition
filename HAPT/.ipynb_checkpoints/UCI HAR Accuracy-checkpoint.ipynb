{
 "cells": [
  {
   "cell_type": "code",
   "execution_count": 2,
   "metadata": {
    "collapsed": false
   },
   "outputs": [
    {
     "name": "stderr",
     "output_type": "stream",
     "text": [
      "/Users/adithya8.0.0/anaconda2/lib/python2.7/site-packages/sklearn/cross_validation.py:44: DeprecationWarning: This module was deprecated in version 0.18 in favor of the model_selection module into which all the refactored classes and functions are moved. Also note that the interface of the new CV iterators are different from that of this module. This module will be removed in 0.20.\n",
      "  \"This module will be removed in 0.20.\", DeprecationWarning)\n"
     ]
    }
   ],
   "source": [
    "import numpy as np\n",
    "import pandas as pd\n",
    "from collections import Counter\n",
    "from scipy.stats import kurtosis,skew\n",
    "from time import time\n",
    "from sklearn import cross_validation as model_selection\n",
    "from sklearn.ensemble import RandomForestClassifier\n",
    "from sklearn.naive_bayes import GaussianNB\n",
    "from sklearn.ensemble import ExtraTreesClassifier\n",
    "from sklearn.metrics import classification_report\n",
    "from sklearn.tree import DecisionTreeClassifier\n",
    "from sklearn import svm"
   ]
  },
  {
   "cell_type": "code",
   "execution_count": 3,
   "metadata": {
    "collapsed": true
   },
   "outputs": [],
   "source": [
    "data = pd.read_pickle(\"accelero_data.pkl\")\n",
    "lab = pd.read_pickle(\"activity_label.pkl\")"
   ]
  },
  {
   "cell_type": "code",
   "execution_count": 15,
   "metadata": {
    "collapsed": false
   },
   "outputs": [
    {
     "name": "stdout",
     "output_type": "stream",
     "text": [
      "(815614, 3)\n",
      "(815614, 4)\n"
     ]
    }
   ],
   "source": [
    "data = np.array(data)\n",
    "lab = np.array(lab)\n",
    "print data.shape\n",
    "arr = np.hstack((data,lab))\n",
    "print arr.shape"
   ]
  },
  {
   "cell_type": "code",
   "execution_count": 12,
   "metadata": {
    "collapsed": false
   },
   "outputs": [
    {
     "name": "stdout",
     "output_type": "stream",
     "text": [
      "1  :  122091\n",
      "2  :  116707\n",
      "3  :  107961\n",
      "4  :  126677\n",
      "5  :  138105\n",
      "6  :  136865\n",
      "7  :  10316\n",
      "8  :  8029\n",
      "9  :  12428\n",
      "10  :  11150\n",
      "11  :  14418\n",
      "12  :  10867\n"
     ]
    }
   ],
   "source": [
    "for i in xrange(1,13):\n",
    "    print i,\" : \",np.count_nonzero(lab == i)"
   ]
  },
  {
   "cell_type": "code",
   "execution_count": null,
   "metadata": {
    "collapsed": false
   },
   "outputs": [],
   "source": [
    "attributes = []\n",
    "start=time()\n",
    "act = []\n",
    "#act = np.array(act)\n",
    "l = 0\n",
    "i=0\n",
    "t = time()\n",
    "while i < len(arr):\n",
    "    print i\n",
    "    if i+51>len(arr):\n",
    "        break\n",
    "    if(arr[i,-1] != arr[i+51,-1]):\n",
    "        i+=1\n",
    "        continue\n",
    "    else:\n",
    "        attr_mean = np.mean(arr[i:i+52,:-1],axis = 0)\n",
    "        attr_var = np.var(arr[i:i+52,:-1],axis=0)\n",
    "        attr_min = np.amin(arr[i:i+52,:-1],axis = 0)\n",
    "        attr_max = np.amax(arr[i:i+52,:-1],axis = 0)  \n",
    "        attr_skew = skew(arr[i:i+52,:-1],axis=0)\n",
    "        attr_kurtosis = kurtosis(arr[i:i+52,:-1],axis=0)\n",
    "        \n",
    "        attr_coeff = []\n",
    "        \n",
    "        for j in [0]:  #[0,4,8]\n",
    "            attr_coeff.append(np.corrcoef(arr[i:i+52,j+0],arr[i:i+52,j+1])[1,0])\n",
    "            attr_coeff.append(np.corrcoef(arr[i:i+52,j+1],arr[i:i+52,j+2])[1,0])\n",
    "            attr_coeff.append(np.corrcoef(arr[i:i+52,j+2],arr[i:i+52,j+0])[1,0])\n",
    "        attr_coeff = np.array(attr_coeff)\n",
    "        \n",
    "        attr = attr_mean\n",
    "        attr = np.concatenate((attr,attr_var))\n",
    "        attr = np.concatenate((attr,attr_coeff))        \n",
    "        attr = np.concatenate((attr,attr_min))\n",
    "        attr = np.concatenate((attr,attr_max))\n",
    "        attr = np.concatenate((attr,attr_skew))\n",
    "        attr = np.concatenate((attr,attr_kurtosis))\n",
    "\n",
    "        \n",
    "        act.append(arr[i,-1])\n",
    "    \n",
    "        attributes.append(attr)\n",
    "        del attr\n",
    "        i+=26\n",
    "print time() - start        \n",
    "start = time()\n",
    "attributes = np.array(attributes)"
   ]
  },
  {
   "cell_type": "code",
   "execution_count": 32,
   "metadata": {
    "collapsed": false
   },
   "outputs": [
    {
     "name": "stdout",
     "output_type": "stream",
     "text": [
      "(29687, 21) (29687,)\n"
     ]
    }
   ],
   "source": [
    "print attributes.shape, np.shape(act)"
   ]
  },
  {
   "cell_type": "code",
   "execution_count": 37,
   "metadata": {
    "collapsed": true
   },
   "outputs": [],
   "source": [
    "def efficiency(feats):\n",
    "    num_est=5\n",
    "    columns_list=[\"Mean x\",\"Mean y\",\"Mean z\",\n",
    "              \"Dev x\",\"Dev y\",\"Dev z\",\n",
    "              \"Corr x-y\",\"Corr x-z\",\"Corr y-z\",\n",
    "              \"Min x\",\"Min y\",\"Min z\",\n",
    "             \"Max x\",\"Max y\",\"Max z\",\n",
    "             \"Skew x\",\"Skew y\",\"Skew z\",\n",
    "             \"Kurtosis x\", \"Kurtosis y\",\"Kurtosis z\"]\n",
    "\n",
    "    X_train, X_test, y_t, y_test = model_selection.train_test_split(feats, act, test_size=0.25, random_state=0, stratify = act)\n",
    "\n",
    "    print (\"For Decision Trees:\")\n",
    "    d_tree=DecisionTreeClassifier()\n",
    "    d_tree.fit(X_train,y_t)\n",
    "    t1=time()\n",
    "    print (d_tree.score(X_test,y_test))\n",
    "    print (\"Time Taken : \" + str(time()-t1))\n",
    "    print()\n",
    "\n",
    "    print (\"For SVM:\")\n",
    "    clf=svm.SVC()\n",
    "    clf.fit(X_train,y_t)\n",
    "    t1=time()\n",
    "    print (clf.score(X_test,y_test))\n",
    "    print (\"Time Taken : \" + str(time()-t1))\n",
    "    print ()\n",
    "    \n",
    "    print (\"For Naive bayes:\")\n",
    "    gnb=GaussianNB()\n",
    "    gnb.fit(X_train,y_t)\n",
    "    t1=time()\n",
    "    print (gnb.score(X_test,y_test))\n",
    "    print (\"Time Taken : \" + str(time()-t1))\n",
    "    print()\n",
    "\n"
   ]
  },
  {
   "cell_type": "code",
   "execution_count": 35,
   "metadata": {
    "collapsed": false
   },
   "outputs": [
    {
     "name": "stdout",
     "output_type": "stream",
     "text": [
      "For Random Forest:\n",
      "('Criterion : ', 'entropy')\n",
      "0.924548639181\n",
      "Time Taken : 0.284849882126\n",
      "             precision    recall  f1-score   support\n",
      "\n",
      "        1.0     0.9473    0.9514    0.9493      1152\n",
      "        2.0     0.9189    0.9564    0.9373      1055\n",
      "        3.0     0.9574    0.9485    0.9529       971\n",
      "        4.0     0.9634    0.9650    0.9642      1173\n",
      "        5.0     0.9590    0.9665    0.9628      1284\n",
      "        6.0     0.9829    0.9969    0.9899      1272\n",
      "        7.0     0.5000    0.3896    0.4380        77\n",
      "        8.0     0.5455    0.4364    0.4848        55\n",
      "        9.0     0.5051    0.5155    0.5102        97\n",
      "       10.0     0.4810    0.4471    0.4634        85\n",
      "       11.0     0.3246    0.3109    0.3176       119\n",
      "       12.0     0.3200    0.1951    0.2424        82\n",
      "\n",
      "avg / total     0.9196    0.9245    0.9217      7422\n",
      "\n",
      "('Criterion : ', 'gini')\n",
      "0.919024521692\n",
      "Time Taken : 0.255610942841\n",
      "             precision    recall  f1-score   support\n",
      "\n",
      "        1.0     0.9338    0.9427    0.9382      1152\n",
      "        2.0     0.9060    0.9412    0.9233      1055\n",
      "        3.0     0.9483    0.9454    0.9469       971\n",
      "        4.0     0.9583    0.9591    0.9587      1173\n",
      "        5.0     0.9560    0.9650    0.9605      1284\n",
      "        6.0     0.9829    0.9961    0.9895      1272\n",
      "        7.0     0.4615    0.3896    0.4225        77\n",
      "        8.0     0.5263    0.3636    0.4301        55\n",
      "        9.0     0.4783    0.4536    0.4656        97\n",
      "       10.0     0.4430    0.4118    0.4268        85\n",
      "       11.0     0.3793    0.3697    0.3745       119\n",
      "       12.0     0.4348    0.2439    0.3125        82\n",
      "\n",
      "avg / total     0.9140    0.9190    0.9160      7422\n",
      "\n",
      "For Extra Trees:\n",
      "('Criterion : ', 'entropy')\n",
      "0.926569657774\n",
      "Time Taken : 0.3378469944\n",
      "             precision    recall  f1-score   support\n",
      "\n",
      "        1.0     0.9455    0.9635    0.9544      1152\n",
      "        2.0     0.9294    0.9611    0.9450      1055\n",
      "        3.0     0.9675    0.9506    0.9590       971\n",
      "        4.0     0.9626    0.9659    0.9643      1173\n",
      "        5.0     0.9562    0.9681    0.9621      1284\n",
      "        6.0     0.9799    0.9976    0.9887      1272\n",
      "        7.0     0.5254    0.4026    0.4559        77\n",
      "        8.0     0.5263    0.3636    0.4301        55\n",
      "        9.0     0.4639    0.4639    0.4639        97\n",
      "       10.0     0.4430    0.4118    0.4268        85\n",
      "       11.0     0.3304    0.3193    0.3248       119\n",
      "       12.0     0.3721    0.1951    0.2560        82\n",
      "\n",
      "avg / total     0.9208    0.9266    0.9231      7422\n",
      "\n",
      "('Criterion : ', 'gini')\n",
      "0.926973861493\n",
      "Time Taken : 0.326009988785\n",
      "             precision    recall  f1-score   support\n",
      "\n",
      "        1.0     0.9476    0.9731    0.9602      1152\n",
      "        2.0     0.9264    0.9659    0.9457      1055\n",
      "        3.0     0.9726    0.9506    0.9615       971\n",
      "        4.0     0.9611    0.9685    0.9648      1173\n",
      "        5.0     0.9622    0.9712    0.9667      1284\n",
      "        6.0     0.9822    0.9976    0.9899      1272\n",
      "        7.0     0.4651    0.2597    0.3333        77\n",
      "        8.0     0.4667    0.3818    0.4200        55\n",
      "        9.0     0.4200    0.4330    0.4264        97\n",
      "       10.0     0.4085    0.3412    0.3718        85\n",
      "       11.0     0.3113    0.2773    0.2933       119\n",
      "       12.0     0.3636    0.2439    0.2920        82\n",
      "\n",
      "avg / total     0.9201    0.9270    0.9229      7422\n",
      "\n"
     ]
    }
   ],
   "source": [
    "feats = attributes\n",
    "print (\"For Random Forest:\")\n",
    "\n",
    "X_train, X_test, y_t, y_test = model_selection.train_test_split(feats, act, test_size=0.25, random_state=42,stratify=act)\n",
    "for cri in [\"entropy\",\"gini\"]:\n",
    "    print (\"Criterion : \",cri)\n",
    "    rf=RandomForestClassifier(n_estimators=100,max_features=6,criterion=cri)\n",
    "    rf.fit(X_train,y_t)\n",
    "    t1=time()\n",
    "    print (rf.score(X_test,y_test))\n",
    "    print (\"Time Taken : \" + str(time()-t1))\n",
    "    print (classification_report(y_test,rf.predict(X_test),digits=4))\n",
    "\n",
    "print (\"For Extra Trees:\")\n",
    "\n",
    "X_train, X_test, y_t, y_test = model_selection.train_test_split(feats, act, test_size=0.25, random_state=42,stratify=act)\n",
    "for cri in [\"entropy\",\"gini\"]:\n",
    "    print (\"Criterion : \",cri)\t\n",
    "    rf=ExtraTreesClassifier(n_estimators=100,max_features=6,criterion=cri)\n",
    "    rf.fit(X_train,y_t)\n",
    "    t1=time()\n",
    "    print (rf.score(X_test,y_test))\n",
    "    print (\"Time Taken : \" + str(time()-t1))\n",
    "    print (classification_report(y_test,rf.predict(X_test),digits=4))\n"
   ]
  },
  {
   "cell_type": "code",
   "execution_count": 38,
   "metadata": {
    "collapsed": false
   },
   "outputs": [
    {
     "name": "stdout",
     "output_type": "stream",
     "text": [
      "For Decision Trees:\n",
      "0.865534896254\n",
      "Time Taken : 0.00551295280457\n",
      "()\n",
      "For SVM:\n",
      "0.844785772029\n",
      "Time Taken : 3.7008471489\n",
      "()\n",
      "For Naive bayes:\n",
      "0.775801670709\n",
      "Time Taken : 0.029009103775\n",
      "()\n"
     ]
    }
   ],
   "source": [
    "efficiency(attributes)"
   ]
  },
  {
   "cell_type": "code",
   "execution_count": null,
   "metadata": {
    "collapsed": true
   },
   "outputs": [],
   "source": []
  }
 ],
 "metadata": {
  "anaconda-cloud": {},
  "kernelspec": {
   "display_name": "Python [default]",
   "language": "python",
   "name": "python2"
  },
  "language_info": {
   "codemirror_mode": {
    "name": "ipython",
    "version": 2
   },
   "file_extension": ".py",
   "mimetype": "text/x-python",
   "name": "python",
   "nbconvert_exporter": "python",
   "pygments_lexer": "ipython2",
   "version": "2.7.12"
  }
 },
 "nbformat": 4,
 "nbformat_minor": 2
}

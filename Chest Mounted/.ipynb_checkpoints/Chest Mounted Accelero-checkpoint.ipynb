{
 "cells": [
  {
   "cell_type": "code",
   "execution_count": 1,
   "metadata": {
    "collapsed": false
   },
   "outputs": [
    {
     "name": "stderr",
     "output_type": "stream",
     "text": [
      "Using TensorFlow backend.\n"
     ]
    }
   ],
   "source": [
    "%matplotlib inline\n",
    "import matplotlib.pyplot as plt\n",
    "import csv\n",
    "import numpy as np\n",
    "import pandas as pd\n",
    "import xgboost\n",
    "from scipy.stats import kurtosis,skew\n",
    "from sklearn.ensemble import RandomForestClassifier\n",
    "from sklearn.ensemble import ExtraTreesClassifier\n",
    "from sklearn.metrics import classification_report\n",
    "from sklearn.ensemble import AdaBoostClassifier\n",
    "from sklearn.metrics import confusion_matrix\n",
    "from sklearn.tree import DecisionTreeClassifier\n",
    "from sklearn import svm\n",
    "from sklearn.mixture import BayesianGaussianMixture\n",
    "from sklearn.naive_bayes import GaussianNB\n",
    "from sklearn.mixture import GaussianMixture\n",
    "import os\n",
    "import seaborn as sn\n",
    "from sklearn.model_selection import train_test_split\n",
    "from time import time\n",
    "import tensorflow as tf\n",
    "from keras.utils import *"
   ]
  },
  {
   "cell_type": "code",
   "execution_count": 2,
   "metadata": {
    "collapsed": true
   },
   "outputs": [],
   "source": [
    "TARGET_LABELS = {\n",
    "    1: \"Working at Computer\",\n",
    "    2: \"Standing Up, Walking and Going updown stairs\",\n",
    "    3: \"Standing\",\n",
    "    4: \"Walking\",\n",
    "    5: \"Going UpDown Stairs\",\n",
    "    6: \"Walking and Talking with Someone\",\n",
    "    7: \"Talking while Standing\",        \n",
    "}"
   ]
  },
  {
   "cell_type": "code",
   "execution_count": 3,
   "metadata": {
    "collapsed": true
   },
   "outputs": [],
   "source": [
    "#to calculate the mod of a vector\n",
    "def absoluter(q):\n",
    "    return np.sqrt((q[0]**2 + q[1]**2 + q[2]**2))"
   ]
  },
  {
   "cell_type": "code",
   "execution_count": 174,
   "metadata": {
    "collapsed": true
   },
   "outputs": [],
   "source": [
    "data = {1.0:[],2.0:[],3.0:[],4.0:[],5.0:[],6.0:[],7.0:[]}\n",
    "a = []\n",
    "path = \"/Volumes/Adithya/Adithya/ML/DATA SETS/Activity Recognition from Single Chest-Mounted Accelerometer/\""
   ]
  },
  {
   "cell_type": "code",
   "execution_count": 175,
   "metadata": {
    "collapsed": true
   },
   "outputs": [],
   "source": [
    "def data_extract(string):\n",
    "    global data,a\n",
    "    with open(path + string + \".csv\",'rU') as f:\n",
    "        c = csv.reader(f)\n",
    "        for l in c:\n",
    "            temp  = list(map(float , l))\n",
    "            if(temp[4]>0.0):\n",
    "                a.append((temp[1:]))                        #the first element is serial number of the data\n",
    "    return        "
   ]
  },
  {
   "cell_type": "code",
   "execution_count": 176,
   "metadata": {
    "collapsed": true
   },
   "outputs": [],
   "source": [
    "for i in xrange(1,16):\n",
    "    data_extract(str(i))\n"
   ]
  },
  {
   "cell_type": "code",
   "execution_count": 190,
   "metadata": {
    "collapsed": false
   },
   "outputs": [
    {
     "data": {
      "text/plain": [
       "(1923177, 4)"
      ]
     },
     "execution_count": 190,
     "metadata": {},
     "output_type": "execute_result"
    }
   ],
   "source": [
    "g = np.array([0.0, 0.0, 0.0])\n",
    "c = np.array(a)\n",
    "b = c\n"
   ]
  },
  {
   "cell_type": "code",
   "execution_count": 7,
   "metadata": {
    "collapsed": true
   },
   "outputs": [],
   "source": [
    "#normalisation\n",
    "b = c[:,:-1]\n",
    "lab = c[:,-1]\n",
    "m = np.mean(b,axis =0)\n",
    "v = np.var(b,axis = 0)\n",
    "b = (b-m)/v\n",
    "lab = lab.reshape(-1,1)\n",
    "b = np.hstack((b,lab))"
   ]
  },
  {
   "cell_type": "code",
   "execution_count": 10,
   "metadata": {
    "collapsed": true
   },
   "outputs": [],
   "source": [
    "\n",
    "arr=np.zeros((len(b),12))\n",
    "labels=b[:,-1]\n",
    "\n",
    "for i in range (0,len(b)):\n",
    "    g = 0.9*g + 0.1*b[i,:-1]  #low pass filter\n",
    "    v = b[i,:-1]\n",
    "    v = v - g   #high pass filter\n",
    "\n",
    "    for j in xrange(3):\n",
    "        arr[i,j]=b[i,j]\n",
    "    arr[i,3]=absoluter(b[i,:-1])\n",
    "    j=4\n",
    "\n",
    "    for k in xrange(3):\n",
    "        arr[i,j+k]=g[k]\n",
    "    arr[i,7]=absoluter(g)\n",
    "    j=8\n",
    "\n",
    "    for k in xrange(3):\n",
    "        arr[i,j+k]=v[k]\n",
    "    arr[i,11]=absoluter(v)\n",
    "\n",
    "arr = np.hstack((arr,labels.reshape(-1,1)))\n"
   ]
  },
  {
   "cell_type": "markdown",
   "metadata": {},
   "source": [
    "                                                PICKLE EXTRACTION FROM HERE"
   ]
  },
  {
   "cell_type": "code",
   "execution_count": 7,
   "metadata": {
    "collapsed": true
   },
   "outputs": [],
   "source": [
    "#the method must be changed since it is a dictionary now \n",
    "def attr_extract():\n",
    "    global c\n",
    "    attr_mean = np.mean(arr,axis=0)\n",
    "    attr_var = np.var(arr,axis=0)\n",
    "    attr_std = np.std(arr,axis=0)\n",
    "    return\n",
    "   "
   ]
  },
  {
   "cell_type": "code",
   "execution_count": 8,
   "metadata": {
    "collapsed": false
   },
   "outputs": [
    {
     "data": {
      "text/plain": [
       "(1923177, 4)"
      ]
     },
     "execution_count": 8,
     "metadata": {},
     "output_type": "execute_result"
    }
   ],
   "source": [
    "#arr = np.array(b)\n",
    "arr.shape"
   ]
  },
  {
   "cell_type": "code",
   "execution_count": null,
   "metadata": {
    "collapsed": false
   },
   "outputs": [],
   "source": [
    "start=time()\n",
    "try:\n",
    "    del attributes\n",
    "except NameError:\n",
    "    attributes = np.zeros((1,21))   #93 originals     #removed fft too\n",
    "    #attributes = np.array(attributes)\n",
    "act = []\n",
    "#act = np.array(act)\n",
    "l = 0\n",
    "i=0\n",
    "t = time()\n",
    "while i < len(arr):\n",
    "    print i\n",
    "    if i+51>len(arr):\n",
    "        break\n",
    "    if(arr[i,-1] != arr[i+51,-1]):\n",
    "        i+=1\n",
    "        continue\n",
    "    else:\n",
    "        attr_mean = np.mean(arr[i:i+52,:-1],axis = 0)\n",
    "        attr_var = np.var(arr[i:i+52,:-1],axis=0)\n",
    "        attr_min = np.amin(arr[i:i+52,:-1],axis = 0)\n",
    "        attr_max = np.amax(arr[i:i+52,:-1],axis = 0)  \n",
    "        attr_skew = skew(arr[i:i+52,:-1],axis=0)\n",
    "        attr_kurtosis = kurtosis(arr[i:i+52,:-1],axis=0)\n",
    "        \n",
    "        attr_coeff = []\n",
    "        \n",
    "        for j in [0]:  #[0,4,8]\n",
    "            attr_coeff.append(np.corrcoef(arr[i:i+52,j+0],arr[i:i+52,j+1])[1,0])\n",
    "            attr_coeff.append(np.corrcoef(arr[i:i+52,j+1],arr[i:i+52,j+2])[1,0])\n",
    "            attr_coeff.append(np.corrcoef(arr[i:i+52,j+2],arr[i:i+52,j+0])[1,0])\n",
    "        attr_coeff = np.array(attr_coeff)\n",
    "        \n",
    "        attr = np.hstack((attr_mean,attr_var))\n",
    "        attr = np.hstack((attr,attr_min))\n",
    "        attr = np.hstack((attr,attr_max))\n",
    "        attr = np.hstack((attr,attr_skew))\n",
    "        attr = np.hstack((attr,attr_kurtosis))\n",
    "        attr = np.hstack((attr,attr_coeff))\n",
    "        \n",
    "        act.append(arr[i,-1])\n",
    "    \n",
    "        attributes = np.vstack((attributes,attr))\n",
    "        del attr\n",
    "        i+=26\n",
    "print time() - start        \n",
    "start = time()\n",
    "attributes = np.delete(attributes,0,0)"
   ]
  },
  {
   "cell_type": "code",
   "execution_count": 13,
   "metadata": {
    "collapsed": false
   },
   "outputs": [],
   "source": [
    "xyz = act\n",
    "act = np.array(act)\n",
    "act = act.reshape(-1,1)\n"
   ]
  },
  {
   "cell_type": "code",
   "execution_count": 16,
   "metadata": {
    "collapsed": true
   },
   "outputs": [],
   "source": [
    "f = pd.read_pickle(\"/Users/adithya8.0.0/Desktop/Dk/att.pkl\")\n",
    "f = np.array(f)\n",
    "np.savetxt(\"/Users/adithya8.0.0/Desktop/Dk/att.txt\",f)\n"
   ]
  },
  {
   "cell_type": "code",
   "execution_count": 47,
   "metadata": {
    "collapsed": false
   },
   "outputs": [
    {
     "name": "stderr",
     "output_type": "stream",
     "text": [
      "/Users/adithya8.0.0/anaconda2/lib/python2.7/site-packages/ipykernel/__main__.py:4: DataConversionWarning: A column-vector y was passed when a 1d array was expected. Please change the shape of y to (n_samples,), for example using ravel().\n"
     ]
    },
    {
     "name": "stdout",
     "output_type": "stream",
     "text": [
      "Test score: 0.858870\n"
     ]
    },
    {
     "data": {
      "image/png": "[encoded data removed]",
      "text/plain": [
       "<matplotlib.figure.Figure at 0x12e076090>"
      ]
     },
     "metadata": {},
     "output_type": "display_data"
    }
   ],
   "source": [
    "X_train, X_test, y_train, y_test = train_test_split(attributes, act, test_size=0.25,random_state = 0)\n",
    "rf = RandomForestClassifier(n_estimators=int(np.sqrt(X_train.shape[1]))+1)\n",
    "rf.fit(X_train, y_train)\n",
    "\n",
    "y_pred = rf.predict(X_test)\n",
    "conf_mat = confusion_matrix(y_test, y_pred)\n",
    "labels = list(TARGET_LABELS.values())\n",
    "sn.heatmap(conf_mat, xticklabels=labels, yticklabels=labels)\n",
    "\n",
    "test_score = rf.score(X_test, y_test)\n",
    "print(\"Test score: %f\"%test_score)"
   ]
  },
  {
   "cell_type": "code",
   "execution_count": 59,
   "metadata": {
    "collapsed": true
   },
   "outputs": [],
   "source": [
    "X_train, X_test, y_train, y_test = train_test_split(attributes, act, test_size=0.25,random_state = 0)"
   ]
  },
  {
   "cell_type": "code",
   "execution_count": 46,
   "metadata": {
    "collapsed": false
   },
   "outputs": [
    {
     "data": {
      "text/plain": [
       "(73773, 21)"
      ]
     },
     "execution_count": 46,
     "metadata": {},
     "output_type": "execute_result"
    }
   ],
   "source": [
    "attributes.shape"
   ]
  },
  {
   "cell_type": "code",
   "execution_count": 48,
   "metadata": {
    "collapsed": false
   },
   "outputs": [
    {
     "data": {
      "text/plain": [
       "(55329, 21)"
      ]
     },
     "execution_count": 48,
     "metadata": {},
     "output_type": "execute_result"
    }
   ],
   "source": [
    "X_train.shape\n"
   ]
  },
  {
   "cell_type": "code",
   "execution_count": 49,
   "metadata": {
    "collapsed": false
   },
   "outputs": [
    {
     "data": {
      "text/plain": [
       "(18444, 21)"
      ]
     },
     "execution_count": 49,
     "metadata": {},
     "output_type": "execute_result"
    }
   ],
   "source": [
    "X_test.shape"
   ]
  },
  {
   "cell_type": "code",
   "execution_count": 50,
   "metadata": {
    "collapsed": false
   },
   "outputs": [
    {
     "data": {
      "text/plain": [
       "(73773, 21)"
      ]
     },
     "execution_count": 50,
     "metadata": {},
     "output_type": "execute_result"
    }
   ],
   "source": [
    "attributes.shape"
   ]
  },
  {
   "cell_type": "code",
   "execution_count": 51,
   "metadata": {
    "collapsed": false
   },
   "outputs": [
    {
     "data": {
      "text/plain": [
       "73773"
      ]
     },
     "execution_count": 51,
     "metadata": {},
     "output_type": "execute_result"
    }
   ],
   "source": [
    "len(act)\n"
   ]
  },
  {
   "cell_type": "code",
   "execution_count": 52,
   "metadata": {
    "collapsed": false
   },
   "outputs": [
    {
     "name": "stdout",
     "output_type": "stream",
     "text": [
      "Counter({1.0: 23389, 7.0: 22809, 4.0: 13710, 3.0: 8270, 5.0: 1959, 2.0: 1821, 6.0: 1815})\n"
     ]
    }
   ],
   "source": [
    "from collections import Counter\n",
    "c=Counter(xyz)\n",
    "print c\n"
   ]
  },
  {
   "cell_type": "code",
   "execution_count": 53,
   "metadata": {
    "collapsed": false
   },
   "outputs": [
    {
     "name": "stdout",
     "output_type": "stream",
     "text": [
      "0.929178470255\n",
      "0.620060790274\n",
      "0.679144385027\n",
      "0.860209135938\n",
      "0.650793650794\n",
      "0.636655948553\n",
      "0.885803001553\n"
     ]
    }
   ],
   "source": [
    "for x in conf_mat[np.arange(len(conf_mat)),np.arange(len(conf_mat))]*1.0/np.sum(conf_mat,axis=0):\n",
    "    print x"
   ]
  },
  {
   "cell_type": "code",
   "execution_count": 54,
   "metadata": {
    "collapsed": false
   },
   "outputs": [
    {
     "data": {
      "text/plain": [
       "array([5576,  204, 1397, 3126,  205,  198, 5135])"
      ]
     },
     "execution_count": 54,
     "metadata": {},
     "output_type": "execute_result"
    }
   ],
   "source": [
    "conf_mat[np.arange(len(conf_mat)),np.arange(len(conf_mat))]"
   ]
  },
  {
   "cell_type": "code",
   "execution_count": 55,
   "metadata": {
    "collapsed": false
   },
   "outputs": [
    {
     "data": {
      "text/plain": [
       "array([[5576,   41,   63,   23,    2,    0,  129],\n",
       "       [ 143,  204,   38,   39,    4,    1,   40],\n",
       "       [  72,   27, 1397,  206,   58,   28,  260],\n",
       "       [  37,   24,  175, 3126,   15,    8,   37],\n",
       "       [  13,    4,   93,   94,  205,    4,   35],\n",
       "       [  10,    3,   53,   76,   12,  198,  161],\n",
       "       [ 150,   26,  238,   70,   19,   72, 5135]])"
      ]
     },
     "execution_count": 55,
     "metadata": {},
     "output_type": "execute_result"
    }
   ],
   "source": [
    "conf_mat"
   ]
  },
  {
   "cell_type": "code",
   "execution_count": 56,
   "metadata": {
    "collapsed": false
   },
   "outputs": [
    {
     "data": {
      "text/plain": [
       "<Container object of 7 artists>"
      ]
     },
     "execution_count": 56,
     "metadata": {},
     "output_type": "execute_result"
    },
    {
     "data": {
      "image/png": "[encoded data removed]",
      "text/plain": [
       "<matplotlib.figure.Figure at 0x12dff1b50>"
      ]
     },
     "metadata": {},
     "output_type": "display_data"
    }
   ],
   "source": [
    "v=c.values()\n",
    "plt.bar(np.arange(1,8),v)"
   ]
  },
  {
   "cell_type": "code",
   "execution_count": 105,
   "metadata": {
    "collapsed": true
   },
   "outputs": [],
   "source": [
    "def efficiency(feats):\n",
    "    num_est=5\n",
    "    columns_list=[\"Mean x\",\"Mean y\",\"Mean z\",\n",
    "              \"Dev x\",\"Dev y\",\"Dev z\",\n",
    "              \"Corr x-y\",\"Corr x-z\",\"Corr y-z\",\n",
    "              \"Min x\",\"Min y\",\"Min z\",\n",
    "             \"Max x\",\"Max y\",\"Max z\",\n",
    "             \"Skew x\",\"Skew y\",\"Skew z\",\n",
    "             \"Kurtosis x\", \"Kurtosis y\",\"Kurtosis z\"]\n",
    "\n",
    "    print \"For Random Forest:\"\n",
    "    y_t = y_train\n",
    "    #X_train, X_test, y_t, y_test = train_test_split(feats, y_train, test_size=0.25, random_state=0)\n",
    "    rf=RandomForestClassifier(n_estimators=100,max_features=6,criterion='entropy')\n",
    "    rf.fit(X_train,y_t)\n",
    "    \n",
    "    t1=time()\n",
    "    print rf.score(X_test,y_test)\n",
    "    print \"Time Taken : \" + str(time()-t1)\n",
    "    \n",
    "    y_pred = rf.predict(X_test)\n",
    "    conf_mat = confusion_matrix(y_test, y_pred)\n",
    "    importances=rf.feature_importances_\n",
    "    idx=np.argsort(importances)\n",
    "    for _n_ in np.array(columns_list)[idx]:\n",
    "        print _n_\n",
    "    print\n",
    "    sn.heatmap(conf_mat)\n",
    "    \n",
    "    print \"For Decision Trees:\"\n",
    "    d_tree=DecisionTreeClassifier()\n",
    "    d_tree.fit(X_train,y_t)\n",
    "    t1=time()\n",
    "    print d_tree.score(X_test,y_test)\n",
    "    print \"Time Taken : \" + str(time()-t1)\n",
    "    print\n",
    "    \n",
    "    print \"For SVM:\"\n",
    "    clf=svm.SVC()\n",
    "    clf.fit(X_train,y_t)\n",
    "    \n",
    "    t1=time()\n",
    "    print clf.score(X_test,y_test)\n",
    "    print \"Time Taken : \" + str(time()-t1)\n",
    "    print\n",
    "    \n",
    "    \n",
    "    print \"For Naive bayes:\"\n",
    "    gnb=GaussianNB()\n",
    "    gnb.fit(X_train,y_t)\n",
    "    t1=time()\n",
    "    print gnb.score(X_test,y_test)\n",
    "    print \"Time Taken : \" + str(time()-t1)\n",
    "    print \n",
    "\n",
    "    print \"For GMM:\"\n",
    "    gmm_=GaussianMixture()\n",
    "    gmm_.fit(X_train,y_t)\n",
    "    t1=time()\n",
    "    res_gmm=gmm_.predict(X_test)\n",
    "    t2=time()\n",
    "    print res_gmm,y_test\n",
    "    print(sum(res_gmm==y_test)*1.0/len(res_gmm))\n",
    "    print \"Time Taken : \" + str(t2-t1)\n",
    "    print \n",
    "\n",
    "    print \"For Adaboost:\"\n",
    "    ada=AdaBoostClassifier(n_estimators=100,learning_rate=0.001)\n",
    "    ada.fit(X_train,y_t)\n",
    "    t1=time()\n",
    "    print ada.score(X_test,y_test)\n",
    "    print \"Time Taken : \" + str(time()-t1)\n",
    "    print \n",
    "\n",
    "\n",
    "    print \"For XGboost:\"\n",
    "    xg=xgboost.XGBClassifier(n_estimators=num_est)\n",
    "    xg.fit(X_train,y_t)\n",
    "\n",
    "    t1=time()\n",
    "    print xg.score(X_test,y_test)\n",
    "    print \"Time Taken : \" + str(time()-t1)\n",
    "    print\n",
    "\n",
    "\n",
    "\n",
    "\n",
    "\n",
    "    "
   ]
  },
  {
   "cell_type": "code",
   "execution_count": 106,
   "metadata": {
    "collapsed": false
   },
   "outputs": [
    {
     "name": "stdout",
     "output_type": "stream",
     "text": [
      "For Random Forest:\n"
     ]
    },
    {
     "name": "stderr",
     "output_type": "stream",
     "text": [
      "/Users/adithya8.0.0/anaconda2/lib/python2.7/site-packages/ipykernel/__main__.py:15: DataConversionWarning: A column-vector y was passed when a 1d array was expected. Please change the shape of y to (n_samples,), for example using ravel().\n"
     ]
    },
    {
     "name": "stdout",
     "output_type": "stream",
     "text": [
      "0.892322706571\n",
      "Time Taken : 0.572219848633\n",
      "Skew z\n",
      "Max z\n",
      "Max y\n",
      "Skew x\n",
      "Max x\n",
      "Kurtosis z\n",
      "Kurtosis x\n",
      "Skew y\n",
      "Kurtosis y\n",
      "Dev x\n",
      "Dev z\n",
      "Corr x-y\n",
      "Min x\n",
      "Corr x-z\n",
      "Min y\n",
      "Mean y\n",
      "Min z\n",
      "Corr y-z\n",
      "Mean x\n",
      "Mean z\n",
      "Dev y\n",
      "\n",
      "For Decision Trees:\n",
      "0.823194534808\n",
      "Time Taken : 0.00785803794861\n",
      "\n",
      "For SVM:\n",
      "0.509162871394\n",
      "Time Taken : 39.3143799305\n",
      "\n",
      "For Naive bayes:\n",
      "0.486933420082\n",
      "Time Taken : 0.0437488555908\n",
      "\n",
      "For GMM:\n",
      "[0 0 0 ..., 0 0 0] [[ 1.]\n",
      " [ 1.]\n",
      " [ 1.]\n",
      " ..., \n",
      " [ 7.]\n",
      " [ 1.]\n",
      " [ 1.]]\n",
      "[ 0.  0.  0. ...,  0.  0.  0.]\n",
      "Time Taken : 0.0075511932373\n",
      "\n",
      "For Adaboost:\n",
      "0.414443721535\n",
      "Time Taken : 0.480875968933\n",
      "\n",
      "For XGboost:\n",
      "0.65761223162\n",
      "Time Taken : 0.0412240028381\n",
      "\n"
     ]
    },
    {
     "data": {
      "image/png": "[encoded data removed]",
      "text/plain": [
       "<matplotlib.figure.Figure at 0x12e6a1650>"
      ]
     },
     "metadata": {},
     "output_type": "display_data"
    }
   ],
   "source": [
    "efficiency(attributes)"
   ]
  },
  {
   "cell_type": "code",
   "execution_count": 75,
   "metadata": {
    "collapsed": false,
    "scrolled": true
   },
   "outputs": [
    {
     "name": "stdout",
     "output_type": "stream",
     "text": [
      "Epoch no : 0; Loss : 6.73641\n",
      "Epoch no : 100; Loss : 1.3838\n",
      "Epoch no : 200; Loss : 1.18977\n",
      "Epoch no : 300; Loss : 1.1482\n",
      "Epoch no : 400; Loss : 1.11777\n",
      "Epoch no : 500; Loss : 1.03939\n",
      "Epoch no : 600; Loss : 0.971316\n",
      "Epoch no : 700; Loss : 0.920673\n",
      "Epoch no : 800; Loss : 0.880186\n",
      "Epoch no : 900; Loss : 0.845088\n",
      "Epoch no : 1000; Loss : 0.809774\n",
      "Epoch no : 1100; Loss : 0.775325\n",
      "Epoch no : 1200; Loss : 0.742205\n",
      "Epoch no : 1300; Loss : 0.710154\n",
      "Epoch no : 1400; Loss : 0.682072\n",
      "Epoch no : 1500; Loss : 0.656183\n",
      "Epoch no : 1600; Loss : 0.63212\n",
      "Epoch no : 1700; Loss : 0.610336\n",
      "Epoch no : 1800; Loss : 0.592967\n",
      "Epoch no : 1900; Loss : 0.572432\n",
      "Epoch no : 2000; Loss : 0.556415\n",
      "Epoch no : 2100; Loss : 0.541785\n",
      "Epoch no : 2200; Loss : 0.528355\n",
      "Epoch no : 2300; Loss : 0.516007\n",
      "Epoch no : 2400; Loss : 0.504534\n",
      "Epoch no : 2500; Loss : 0.493847\n",
      "Epoch no : 2600; Loss : 0.483675\n",
      "Epoch no : 2700; Loss : 0.473769\n",
      "Epoch no : 2800; Loss : 0.464523\n",
      "Epoch no : 2900; Loss : 0.455949\n",
      "Epoch no : 3000; Loss : 0.44773\n",
      "Epoch no : 3100; Loss : 0.439929\n",
      "Epoch no : 3200; Loss : 0.432549\n",
      "Epoch no : 3300; Loss : 0.425598\n",
      "Epoch no : 3400; Loss : 0.418884\n",
      "Epoch no : 3500; Loss : 0.414138\n",
      "Epoch no : 3600; Loss : 0.406336\n",
      "Epoch no : 3700; Loss : 0.400457\n",
      "Epoch no : 3800; Loss : 0.398287\n",
      "Epoch no : 3900; Loss : 0.389436\n",
      "Epoch no : 4000; Loss : 0.384532\n",
      "Epoch no : 4100; Loss : 0.379108\n",
      "Epoch no : 4200; Loss : 0.374208\n",
      "Epoch no : 4300; Loss : 0.369458\n",
      "Epoch no : 4400; Loss : 0.367543\n",
      "Epoch no : 4500; Loss : 0.360631\n",
      "Epoch no : 4600; Loss : 0.356495\n",
      "Epoch no : 4700; Loss : 0.352038\n",
      "Epoch no : 4800; Loss : 0.347831\n",
      "Epoch no : 4900; Loss : 0.34397\n",
      "Epoch no : 5000; Loss : 0.34025\n",
      "Epoch no : 5100; Loss : 0.337033\n",
      "Epoch no : 5200; Loss : 0.333839\n",
      "Epoch no : 5300; Loss : 0.328795\n",
      "Epoch no : 5400; Loss : 0.325234\n",
      "Epoch no : 5500; Loss : 0.321978\n",
      "Epoch no : 5600; Loss : 0.318723\n",
      "Epoch no : 5700; Loss : 0.315036\n",
      "Epoch no : 5800; Loss : 0.313357\n",
      "Epoch no : 5900; Loss : 0.308687\n"
     ]
    }
   ],
   "source": [
    "X_train, X_test, y_train, y_test = train_test_split(attributes, act, test_size=0.25,random_state = 042)\n",
    "\n",
    "num_features=21 #Change for each of things, put it in a loop\n",
    "num_activities=7 #For daily sports and activities\n",
    "\n",
    "x=tf.placeholder(tf.float32,shape=[None,num_features])\n",
    "y=tf.placeholder(tf.float32,shape=[None,num_activities])\n",
    "\n",
    "w1=tf.Variable(tf.random_uniform(shape=(num_features,100)))\n",
    "b1=tf.Variable(tf.zeros(shape=(100,)))\n",
    "w2=tf.Variable(tf.random_uniform(shape=(100,200)))\n",
    "b2=tf.Variable(tf.zeros(shape=(200,)))\n",
    "w3=tf.Variable(tf.random_uniform(shape=(200,7)))\n",
    "b3=tf.Variable(tf.zeros(shape=(7,)))\n",
    "\n",
    "h1=tf.add(tf.matmul(x,w1),b1)\n",
    "h1_act=tf.nn.sigmoid(h1)\n",
    "h2=tf.add(tf.matmul(h1_act,w2),b2)\n",
    "h2_act=tf.nn.sigmoid(h2)\n",
    "out=tf.add(tf.matmul(h2_act,w3),b3)\n",
    "\n",
    "\n",
    "init=tf.global_variables_initializer()\n",
    "y_t_1,y_test_1=np_utils.to_categorical(y_train),np_utils.to_categorical(y_test)\n",
    "y_t_1=y_t_1[:,1:]\n",
    "y_test_1=y_test_1[:,1:]\n",
    "cost=tf.reduce_mean(tf.nn.softmax_cross_entropy_with_logits(logits=out,labels=y_t_1))\n",
    "opzr=tf.train.AdamOptimizer(learning_rate=0.01).minimize(cost)\n",
    "\n",
    "sess=tf.Session()\n",
    "sess.run(tf.global_variables_initializer())\n",
    "for epochs in xrange(6000):\n",
    "    _,c=sess.run([opzr,cost],feed_dict={x: X_train, y:y_t_1})\n",
    "    if epochs%100==0:\n",
    "        print \"Epoch no : \"+str(epochs) + \"; Loss : \"+str(c) \n",
    "res=tf.equal(tf.argmax(out,1),tf.argmax(y_test_1,1))\n",
    "accuracy = tf.reduce_mean(tf.cast(res, \"float\"))\n",
    "\n"
   ]
  },
  {
   "cell_type": "code",
   "execution_count": 76,
   "metadata": {
    "collapsed": false
   },
   "outputs": [
    {
     "name": "stdout",
     "output_type": "stream",
     "text": [
      "Accuracy is :   0.786868\n"
     ]
    }
   ],
   "source": [
    "print \"Accuracy is :  \",accuracy.eval(session=sess,feed_dict={x:X_test,y:y_test_1})\n"
   ]
  },
  {
   "cell_type": "code",
   "execution_count": 81,
   "metadata": {
    "collapsed": false
   },
   "outputs": [
    {
     "name": "stdout",
     "output_type": "stream",
     "text": [
      "For Extra Trees:\n"
     ]
    },
    {
     "name": "stderr",
     "output_type": "stream",
     "text": [
      "/Users/adithya8.0.0/anaconda2/lib/python2.7/site-packages/ipykernel/__main__.py:5: DataConversionWarning: A column-vector y was passed when a 1d array was expected. Please change the shape of y to (n_samples,), for example using ravel().\n"
     ]
    },
    {
     "name": "stdout",
     "output_type": "stream",
     "text": [
      "0.901485577966\n",
      "Time Taken : 0.789015054703\n",
      "             precision    recall  f1-score   support\n",
      "\n",
      "        1.0     0.9635    0.9668    0.9652      5790\n",
      "        2.0     0.8939    0.4944    0.6366       443\n",
      "        3.0     0.8457    0.7168    0.7760      2080\n",
      "        4.0     0.8588    0.9616    0.9073      3441\n",
      "        5.0     0.8845    0.5460    0.6752       533\n",
      "        6.0     0.8840    0.4712    0.6147       469\n",
      "        7.0     0.8876    0.9666    0.9254      5688\n",
      "\n",
      "avg / total     0.9013    0.9015    0.8956     18444\n",
      "\n"
     ]
    }
   ],
   "source": [
    "print \"For Extra Trees:\"\n",
    "for feats in [attributes]:\n",
    "    X_train, X_test, y_train, y_test = train_test_split(attributes, act, test_size=0.25,random_state = 42)\n",
    "    rf=ExtraTreesClassifier(n_estimators=100,max_features=10,criterion='entropy')\n",
    "    rf.fit(X_train,y_train)\n",
    "    t1=time()\n",
    "    print rf.score(X_test,y_test)\n",
    "    print \"Time Taken : \" + str(time()-t1)\n",
    "    print (classification_report(y_test,rf.predict(X_test),digits=4))\n",
    "    "
   ]
  },
  {
   "cell_type": "code",
   "execution_count": null,
   "metadata": {
    "collapsed": true
   },
   "outputs": [],
   "source": []
  }
 ],
 "metadata": {
  "anaconda-cloud": {},
  "kernelspec": {
   "display_name": "Python [default]",
   "language": "python",
   "name": "python2"
  },
  "language_info": {
   "codemirror_mode": {
    "name": "ipython",
    "version": 2
   },
   "file_extension": ".py",
   "mimetype": "text/x-python",
   "name": "python",
   "nbconvert_exporter": "python",
   "pygments_lexer": "ipython2",
   "version": "2.7.12"
  }
 },
 "nbformat": 4,
 "nbformat_minor": 2
}

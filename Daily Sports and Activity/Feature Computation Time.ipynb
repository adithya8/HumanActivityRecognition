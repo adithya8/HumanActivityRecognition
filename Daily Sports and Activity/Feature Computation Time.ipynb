{
 "cells": [
  {
   "cell_type": "code",
   "execution_count": 173,
   "metadata": {
    "collapsed": true
   },
   "outputs": [],
   "source": [
    "import numpy as np\n",
    "from time import time\n",
    "import pandas as pd\n",
    "from scipy.stats import skew,kurtosis"
   ]
  },
  {
   "cell_type": "code",
   "execution_count": 178,
   "metadata": {
    "collapsed": false
   },
   "outputs": [],
   "source": [
    "loader = pd.read_pickle(\"./data.pkl\")\n",
    "loader = np.array(loader)\n",
    "line = np.random.choice(range(9120),size=100,replace=False)\n",
    "data = loader[line]\n"
   ]
  },
  {
   "cell_type": "code",
   "execution_count": 179,
   "metadata": {
    "collapsed": true
   },
   "outputs": [],
   "source": [
    "\n",
    "def get_features(a):\n",
    "    a=np.array(a)\n",
    "    mean_data=np.mean(a,axis=0)\n",
    "    dev=np.std(a,axis=0)\n",
    "    corrln=[]\n",
    "    for i in xrange(0,a.shape[1],3):\n",
    "        corrln.append(np.corrcoef(a[:,i],a[:,i+1])[1,0])\n",
    "        corrln.append(np.corrcoef(a[:,i],a[:,i+2])[1,0])\n",
    "        corrln.append(np.corrcoef(a[:,i+1],a[:,i+2])[1,0])\n",
    "    to_send=mean_data\n",
    "    to_send=np.concatenate((to_send,dev))\n",
    "    to_send=np.concatenate((to_send,corrln))\n",
    "    to_send=np.concatenate((to_send,np.min(a,axis=0)))\n",
    "    to_send=np.concatenate((to_send,np.max(a,axis=0)))\n",
    "    to_send=np.concatenate((to_send,skew(a,axis=0)))\n",
    "    to_send=np.concatenate((to_send,kurtosis(a,axis=0)))\n",
    "    return \n",
    "    "
   ]
  },
  {
   "cell_type": "code",
   "execution_count": 180,
   "metadata": {
    "collapsed": false
   },
   "outputs": [],
   "source": [
    "def time_feat(k):\n",
    "    l = np.zeros((100,))\n",
    "    for i in xrange(100):\n",
    "        t = time()\n",
    "        get_features(k[i])\n",
    "        tt = time()-t\n",
    "        l[i] = tt\n",
    "    return l"
   ]
  },
  {
   "cell_type": "code",
   "execution_count": 181,
   "metadata": {
    "collapsed": false
   },
   "outputs": [
    {
     "data": {
      "text/plain": [
       "0.0018464493751525878"
      ]
     },
     "execution_count": 181,
     "metadata": {},
     "output_type": "execute_result"
    }
   ],
   "source": [
    "np.mean(l)"
   ]
  },
  {
   "cell_type": "code",
   "execution_count": 182,
   "metadata": {
    "collapsed": true
   },
   "outputs": [],
   "source": [
    "time_acc = time_feat(data)"
   ]
  },
  {
   "cell_type": "code",
   "execution_count": 183,
   "metadata": {
    "collapsed": false
   },
   "outputs": [],
   "source": [
    "acc_0 = data[:,:,0:3]\n",
    "acc_1 = data[:,:,3:6]\n",
    "acc_2 = data[:,:,6:9]\n",
    "acc_3 = data[:,:,9:12]\n",
    "acc_4 = data[:,:,12:15]"
   ]
  },
  {
   "cell_type": "code",
   "execution_count": 184,
   "metadata": {
    "collapsed": true
   },
   "outputs": [],
   "source": [
    "time_acc0 = time_feat(acc_0)\n",
    "time_acc1 = time_feat(acc_1)\n",
    "time_acc2 = time_feat(acc_2)\n",
    "time_acc3 = time_feat(acc_3)\n",
    "time_acc4 = time_feat(acc_4)"
   ]
  },
  {
   "cell_type": "code",
   "execution_count": 185,
   "metadata": {
    "collapsed": false
   },
   "outputs": [
    {
     "name": "stdout",
     "output_type": "stream",
     "text": [
      "0.00212884187698\n"
     ]
    }
   ],
   "source": [
    "print np.mean(time_acc)"
   ]
  },
  {
   "cell_type": "code",
   "execution_count": 186,
   "metadata": {
    "collapsed": false
   },
   "outputs": [
    {
     "name": "stdout",
     "output_type": "stream",
     "text": [
      "0.0010676574707\n"
     ]
    }
   ],
   "source": [
    "print np.mean(time_acc0)"
   ]
  },
  {
   "cell_type": "code",
   "execution_count": 187,
   "metadata": {
    "collapsed": false
   },
   "outputs": [
    {
     "name": "stdout",
     "output_type": "stream",
     "text": [
      "0.000845594406128\n"
     ]
    }
   ],
   "source": [
    "print np.mean(time_acc1)"
   ]
  },
  {
   "cell_type": "code",
   "execution_count": 188,
   "metadata": {
    "collapsed": false
   },
   "outputs": [
    {
     "name": "stdout",
     "output_type": "stream",
     "text": [
      "0.000780098438263\n"
     ]
    }
   ],
   "source": [
    "print np.mean(time_acc2)"
   ]
  },
  {
   "cell_type": "code",
   "execution_count": 189,
   "metadata": {
    "collapsed": false
   },
   "outputs": [
    {
     "name": "stdout",
     "output_type": "stream",
     "text": [
      "0.000790576934814\n"
     ]
    }
   ],
   "source": [
    "print np.mean(time_acc3)"
   ]
  },
  {
   "cell_type": "code",
   "execution_count": 190,
   "metadata": {
    "collapsed": false
   },
   "outputs": [
    {
     "name": "stdout",
     "output_type": "stream",
     "text": [
      "0.00077840089798\n"
     ]
    }
   ],
   "source": [
    "print np.mean(time_acc4)"
   ]
  },
  {
   "cell_type": "markdown",
   "metadata": {},
   "source": [
    "# <h1><center> FOR 100 SAMPLES OF EACH ACTIVITY</center></h1>#"
   ]
  },
  {
   "cell_type": "code",
   "execution_count": 191,
   "metadata": {
    "collapsed": false
   },
   "outputs": [
    {
     "name": "stdout",
     "output_type": "stream",
     "text": [
      "(9120, 125, 15)\n"
     ]
    }
   ],
   "source": [
    "data = pd.read_pickle(\"./data.pkl\")\n",
    "data = np.array(data)\n",
    "print data.shape"
   ]
  },
  {
   "cell_type": "code",
   "execution_count": 192,
   "metadata": {
    "collapsed": true
   },
   "outputs": [],
   "source": [
    "def time_featy(k,lines):\n",
    "    l = np.empty((1,100))\n",
    "    for i in lines:\n",
    "        t = time()\n",
    "        get_features(k[i])\n",
    "        tt = time()-t\n",
    "        l = np.append(l,tt)\n",
    "    return l"
   ]
  },
  {
   "cell_type": "code",
   "execution_count": 193,
   "metadata": {
    "collapsed": false
   },
   "outputs": [],
   "source": [
    "def time_taken(d):\n",
    "    tt = np.array((0,))\n",
    "    lines = np.random.choice(480,size=100,replace=False)\n",
    "    for i in lines:\n",
    "        start = time()\n",
    "        get_features(d[i])\n",
    "        tt = np.append(tt,time()-start)\n",
    "    tt = np.delete(tt,0)\n",
    "    acc_0 = d[:,:,0:3]\n",
    "    acc_1 = d[:,:,3:6]\n",
    "    acc_2 = d[:,:,6:9]\n",
    "    acc_3 = d[:,:,9:12]\n",
    "    acc_4 = d[:,:,12:15]\n",
    "    time_acc0 = time_featy(acc_0,lines)\n",
    "    time_acc1 = time_featy(acc_1,lines)\n",
    "    time_acc2 = time_featy(acc_2,lines)\n",
    "    time_acc3 = time_featy(acc_3,lines)\n",
    "    time_acc4 = time_featy(acc_4,lines)\n",
    "    print \"Mean time for acc0: \",np.mean(time_acc0)\n",
    "    print \"Mean time for acc1: \",np.mean(time_acc1)\n",
    "    print \"Mean time for acc2: \",np.mean(time_acc2)\n",
    "    print \"Mean time for acc3: \",np.mean(time_acc3)\n",
    "    print \"Mean time for acc4: \",np.mean(time_acc4)\n",
    "    return tt"
   ]
  },
  {
   "cell_type": "code",
   "execution_count": 194,
   "metadata": {
    "collapsed": true
   },
   "outputs": [],
   "source": [
    "act = np.empty((19,480,125,15))\n",
    "time_for_act = np.empty((19,100))"
   ]
  },
  {
   "cell_type": "code",
   "execution_count": 195,
   "metadata": {
    "collapsed": false,
    "scrolled": false
   },
   "outputs": [
    {
     "name": "stdout",
     "output_type": "stream",
     "text": [
      "Activity  1\n",
      "Mean time for acc0:  0.000481793880463\n",
      "Mean time for acc1:  0.000409846305847\n",
      "Mean time for acc2:  0.000405110120773\n",
      "Mean time for acc3:  0.000416797399521\n",
      "Mean time for acc4:  0.00047837138176\n",
      "Mean time for all acc:  0.00185400247574\n",
      "Activity  2\n",
      "Mean time for acc0:  0.000465483665466\n",
      "Mean time for acc1:  0.000403751134872\n",
      "Mean time for acc2:  0.000402598381042\n",
      "Mean time for acc3:  0.000406336784363\n",
      "Mean time for acc4:  0.000402398109436\n",
      "Mean time for all acc:  0.00188045024872\n",
      "Activity  3\n",
      "Mean time for acc0:  0.000457752943039\n",
      "Mean time for acc1:  0.000433562994003\n",
      "Mean time for acc2:  0.000404534339905\n",
      "Mean time for acc3:  0.000401622056961\n",
      "Mean time for acc4:  0.000403507947922\n",
      "Mean time for all acc:  0.0016322684288\n",
      "Activity  4\n",
      "Mean time for acc0:  0.000459351539612\n",
      "Mean time for acc1:  0.000404005050659\n",
      "Mean time for acc2:  0.000401626825333\n",
      "Mean time for acc3:  0.000400031805038\n",
      "Mean time for acc4:  0.000408828258514\n",
      "Mean time for all acc:  0.00163244962692\n",
      "Activity  5\n",
      "Mean time for acc0:  0.000463604927063\n",
      "Mean time for acc1:  0.000400385856628\n",
      "Mean time for acc2:  0.000401561260223\n",
      "Mean time for acc3:  0.000419119596481\n",
      "Mean time for acc4:  0.000403007268906\n",
      "Mean time for all acc:  0.00161848306656\n",
      "Activity  6\n",
      "Mean time for acc0:  0.000466690063477\n",
      "Mean time for acc1:  0.000406435728073\n",
      "Mean time for acc2:  0.00040696144104\n",
      "Mean time for acc3:  0.000408238172531\n",
      "Mean time for acc4:  0.000406799316406\n",
      "Mean time for all acc:  0.00162457227707\n",
      "Activity  7\n",
      "Mean time for acc0:  0.000451006889343\n",
      "Mean time for acc1:  0.000429155826569\n",
      "Mean time for acc2:  0.000405691862106\n",
      "Mean time for acc3:  0.00040046453476\n",
      "Mean time for acc4:  0.000402157306671\n",
      "Mean time for all acc:  0.00163313150406\n",
      "Activity  8\n",
      "Mean time for acc0:  0.000502374172211\n",
      "Mean time for acc1:  0.000494896173477\n",
      "Mean time for acc2:  0.00049707531929\n",
      "Mean time for acc3:  0.000427125692368\n",
      "Mean time for acc4:  0.000400804281235\n",
      "Mean time for all acc:  0.00162080049515\n",
      "Activity  9\n",
      "Mean time for acc0:  0.000775774717331\n",
      "Mean time for acc1:  0.000401229858398\n",
      "Mean time for acc2:  0.000423299074173\n",
      "Mean time for acc3:  0.000916953086853\n",
      "Mean time for acc4:  0.000536469221115\n",
      "Mean time for all acc:  0.00237614393234\n",
      "Activity  10\n",
      "Mean time for acc0:  0.000655604600906\n",
      "Mean time for acc1:  0.000907932519913\n",
      "Mean time for acc2:  0.000454698801041\n",
      "Mean time for acc3:  0.000400749444962\n",
      "Mean time for acc4:  0.000440174341202\n",
      "Mean time for all acc:  0.00165090322495\n",
      "Activity  11\n",
      "Mean time for acc0:  0.000413818359375\n",
      "Mean time for acc1:  0.000474054813385\n",
      "Mean time for acc2:  0.000492267608643\n",
      "Mean time for acc3:  0.000504403114319\n",
      "Mean time for acc4:  0.000489634275436\n",
      "Mean time for all acc:  0.00291476488113\n",
      "Activity  12\n",
      "Mean time for acc0:  0.00111998200417\n",
      "Mean time for acc1:  0.000443555116653\n",
      "Mean time for acc2:  0.000402791500092\n",
      "Mean time for acc3:  0.000420624017715\n",
      "Mean time for acc4:  0.000424348115921\n",
      "Mean time for all acc:  0.00205418586731\n",
      "Activity  13\n",
      "Mean time for acc0:  0.00122175455093\n",
      "Mean time for acc1:  0.000436227321625\n",
      "Mean time for acc2:  0.000408082008362\n",
      "Mean time for acc3:  0.000412286520004\n",
      "Mean time for acc4:  0.000550113916397\n",
      "Mean time for all acc:  0.00180578947067\n",
      "Activity  14\n",
      "Mean time for acc0:  0.000409779548645\n",
      "Mean time for acc1:  0.000427974462509\n",
      "Mean time for acc2:  0.000440261363983\n",
      "Mean time for acc3:  0.00049232006073\n",
      "Mean time for acc4:  0.000496722459793\n",
      "Mean time for all acc:  0.00264358043671\n",
      "Activity  15\n",
      "Mean time for acc0:  0.000410029888153\n",
      "Mean time for acc1:  0.000413596630096\n",
      "Mean time for acc2:  0.000489255189896\n",
      "Mean time for acc3:  0.000919771194458\n",
      "Mean time for acc4:  0.000411665439606\n",
      "Mean time for all acc:  0.00338556528091\n",
      "Activity  16\n",
      "Mean time for acc0:  0.000522984266281\n",
      "Mean time for acc1:  0.000503549575806\n",
      "Mean time for acc2:  0.000578866004944\n",
      "Mean time for acc3:  0.000585578680038\n",
      "Mean time for acc4:  0.000418059825897\n",
      "Mean time for all acc:  0.00214956760406\n",
      "Activity  17\n",
      "Mean time for acc0:  0.000455455780029\n",
      "Mean time for acc1:  0.000406175851822\n",
      "Mean time for acc2:  0.000415306091309\n",
      "Mean time for acc3:  0.000410729646683\n",
      "Mean time for acc4:  0.00048313498497\n",
      "Mean time for all acc:  0.00162759780884\n",
      "Activity  18\n",
      "Mean time for acc0:  0.000462422370911\n",
      "Mean time for acc1:  0.000407605171204\n",
      "Mean time for acc2:  0.000458710193634\n",
      "Mean time for acc3:  0.000614515542984\n",
      "Mean time for acc4:  0.000503474473953\n",
      "Mean time for all acc:  0.0016680932045\n",
      "Activity  19\n",
      "Mean time for acc0:  0.00130466461182\n",
      "Mean time for acc1:  0.000504515171051\n",
      "Mean time for acc2:  0.000405650138855\n",
      "Mean time for acc3:  0.000405398607254\n",
      "Mean time for acc4:  0.000404276847839\n",
      "Mean time for all acc:  0.00222677946091\n"
     ]
    }
   ],
   "source": [
    "for i in xrange(19):\n",
    "    print \"Activity \",i+1\n",
    "    act[i] = data[480*(i):(i+1)*480,:,:]\n",
    "    time_for_act[i] = time_taken(act[i])\n",
    "    print \"Mean time for all acc: \",np.mean(time_for_act[i])"
   ]
  },
  {
   "cell_type": "code",
   "execution_count": 204,
   "metadata": {
    "collapsed": false
   },
   "outputs": [
    {
     "name": "stdout",
     "output_type": "stream",
     "text": [
      "Act 0 : 0.00185400247574\n",
      "Act 1 : 0.00188045024872\n",
      "Act 2 : 0.0016322684288\n",
      "Act 3 : 0.00163244962692\n",
      "Act 4 : 0.00161848306656\n",
      "Act 5 : 0.00162457227707\n",
      "Act 6 : 0.00163313150406\n",
      "Act 7 : 0.00162080049515\n",
      "Act 8 : 0.00237614393234\n",
      "Act 9 : 0.00165090322495\n",
      "Act 10 : 0.00291476488113\n",
      "Act 11 : 0.00205418586731\n",
      "Act 12 : 0.00180578947067\n",
      "Act 13 : 0.00264358043671\n",
      "Act 14 : 0.00338556528091\n",
      "Act 15 : 0.00214956760406\n",
      "Act 16 : 0.00162759780884\n",
      "Act 17 : 0.0016680932045\n",
      "Act 18 : 0.00222677946091\n",
      "\n",
      "Mean time for all 19 act:  0.00186744426426\n"
     ]
    }
   ],
   "source": [
    "k = np.empty((1,19))\n",
    "for i in xrange(19):\n",
    "    k = np.append(k,np.mean(time_for_act[i],axis=0))\n",
    "    print \"Act\",i,\":\",np.mean(time_for_act[i],axis=0)\n",
    "print \n",
    "print \"Mean time for all 19 act: \",np.mean(k)"
   ]
  },
  {
   "cell_type": "code",
   "execution_count": null,
   "metadata": {
    "collapsed": true
   },
   "outputs": [],
   "source": []
  }
 ],
 "metadata": {
  "kernelspec": {
   "display_name": "Python 2",
   "language": "python",
   "name": "python2"
  },
  "language_info": {
   "codemirror_mode": {
    "name": "ipython",
    "version": 2
   },
   "file_extension": ".py",
   "mimetype": "text/x-python",
   "name": "python",
   "nbconvert_exporter": "python",
   "pygments_lexer": "ipython2",
   "version": "2.7.13"
  }
 },
 "nbformat": 4,
 "nbformat_minor": 2
}
